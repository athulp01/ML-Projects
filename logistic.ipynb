{
  "nbformat": 4,
  "nbformat_minor": 0,
  "metadata": {
    "colab": {
      "name": "Untitled1.ipynb",
      "provenance": [],
      "authorship_tag": "ABX9TyOSWT+JHLnn5p6Obgy2hwA2",
      "include_colab_link": true
    },
    "kernelspec": {
      "name": "python3",
      "display_name": "Python 3"
    }
  },
  "cells": [
    {
      "cell_type": "markdown",
      "metadata": {
        "id": "view-in-github",
        "colab_type": "text"
      },
      "source": [
        "<a href=\"https://colab.research.google.com/github/athulpn/ML-Projects/blob/master/logistic.ipynb\" target=\"_parent\"><img src=\"https://colab.research.google.com/assets/colab-badge.svg\" alt=\"Open In Colab\"/></a>"
      ]
    },
    {
      "cell_type": "code",
      "metadata": {
        "id": "yUCsqfIfeVak",
        "colab_type": "code",
        "colab": {}
      },
      "source": [
        "import pandas as pd \n",
        "import numpy as np \n",
        "import matplotlib.pyplot as plt "
      ],
      "execution_count": 0,
      "outputs": []
    },
    {
      "cell_type": "code",
      "metadata": {
        "id": "xn9xpam2ffRc",
        "colab_type": "code",
        "colab": {
          "base_uri": "https://localhost:8080/",
          "height": 255
        },
        "outputId": "1f8f3812-bdef-4fdc-b6f5-1fd402e876c7"
      },
      "source": [
        "dataset = pd.read_csv('logistic_new.csv') \n",
        "print(dataset)"
      ],
      "execution_count": 11,
      "outputs": [
        {
          "output_type": "stream",
          "text": [
            "      Passengerid   Age      Fare  Sex  sibsp  Pclass  2urvived\n",
            "0               1  22.0    7.2500    0      1       3         0\n",
            "1               2  38.0   71.2833    1      1       1         1\n",
            "2               3  26.0    7.9250    1      0       3         1\n",
            "3               4  35.0   53.1000    1      1       1         1\n",
            "4               5  35.0    8.0500    0      0       3         0\n",
            "...           ...   ...       ...  ...    ...     ...       ...\n",
            "1304         1305  28.0    8.0500    0      0       3         0\n",
            "1305         1306  39.0  108.9000    1      0       1         0\n",
            "1306         1307  38.5    7.2500    0      0       3         0\n",
            "1307         1308  28.0    8.0500    0      0       3         0\n",
            "1308         1309  28.0   22.3583    0      1       3         0\n",
            "\n",
            "[1309 rows x 7 columns]\n"
          ],
          "name": "stdout"
        }
      ]
    },
    {
      "cell_type": "code",
      "metadata": {
        "id": "TSHwO6ashb7q",
        "colab_type": "code",
        "colab": {
          "base_uri": "https://localhost:8080/",
          "height": 187
        },
        "outputId": "2712ac5d-d1e1-44d0-978c-6858e45dbde3"
      },
      "source": [
        " \n",
        "x = dataset.iloc[:, [2,3]].values  \n",
        "y = dataset.iloc[:, 6].values \n",
        "from sklearn.model_selection import train_test_split \n",
        "xtrain, xtest, ytrain, ytest = train_test_split( \n",
        "        x, y, test_size = 0.25, random_state = 0) \n",
        "from sklearn.preprocessing import StandardScaler \n",
        "sc_x = StandardScaler() \n",
        "xtrain = sc_x.fit_transform(xtrain) \n",
        "xtest = sc_x.transform(xtest) \n",
        "\n",
        "print (xtrain[0:10, :]) \n"
      ],
      "execution_count": 38,
      "outputs": [
        {
          "output_type": "stream",
          "text": [
            "[[-0.36366635  1.45405836]\n",
            " [-0.14746173 -0.68773031]\n",
            " [-0.46473958  1.45405836]\n",
            " [-0.20708767  1.45405836]\n",
            " [ 0.73286918  1.45405836]\n",
            " [-0.49067444 -0.68773031]\n",
            " [-0.37045304  1.45405836]\n",
            " [-0.21678294  1.45405836]\n",
            " [-0.10092441 -0.68773031]\n",
            " [ 4.47185172  1.45405836]]\n"
          ],
          "name": "stdout"
        }
      ]
    },
    {
      "cell_type": "code",
      "metadata": {
        "id": "TyQZmD32nbMK",
        "colab_type": "code",
        "colab": {}
      },
      "source": [
        ""
      ],
      "execution_count": 0,
      "outputs": []
    },
    {
      "cell_type": "code",
      "metadata": {
        "id": "LGaG-DL6kVMF",
        "colab_type": "code",
        "colab": {
          "base_uri": "https://localhost:8080/",
          "height": 85
        },
        "outputId": "d549fe8c-64a8-48cd-f307-77de1e409892"
      },
      "source": [
        "from sklearn.linear_model import LogisticRegression \n",
        "classifier = LogisticRegression(random_state = 0) \n",
        "classifier.fit(xtrain, ytrain) \n",
        "y_pred = classifier.predict(xtest) \n",
        "from sklearn.metrics import confusion_matrix \n",
        "cm = confusion_matrix(ytest, y_pred) \n",
        "\n",
        "print (\"Confusion Matrix : \\n\", cm) \n",
        "from sklearn.metrics import accuracy_score \n",
        "print (\"Accuracy : \", accuracy_score(ytest, y_pred)) \n"
      ],
      "execution_count": 39,
      "outputs": [
        {
          "output_type": "stream",
          "text": [
            "Confusion Matrix : \n",
            " [[211  16]\n",
            " [ 82  19]]\n",
            "Accuracy :  0.7012195121951219\n"
          ],
          "name": "stdout"
        }
      ]
    },
    {
      "cell_type": "code",
      "metadata": {
        "id": "GRWJNtTKkrjm",
        "colab_type": "code",
        "colab": {
          "base_uri": "https://localhost:8080/",
          "height": 319
        },
        "outputId": "736f7866-a8f9-4284-e652-1a61f8423f00"
      },
      "source": [
        "from matplotlib.colors import ListedColormap \n",
        "X_set, y_set = xtest, ytest \n",
        "X1, X2 = np.meshgrid(np.arange(start = X_set[:, 0].min() - 1, \n",
        "\t\t\t\t\t\t\tstop = X_set[:, 0].max() + 1, step = 0.01), \n",
        "\t\t\t\t\tnp.arange(start = X_set[:, 1].min() - 1, \n",
        "\t\t\t\t\t\t\tstop = X_set[:, 1].max() + 1, step = 0.01)) \n",
        "\n",
        "plt.contourf(X1, X2, classifier.predict( \n",
        "\t\t\tnp.array([X1.ravel(), X2.ravel()]).T).reshape( \n",
        "\t\t\tX1.shape), alpha = 0.75, cmap = ListedColormap(('red', 'green'))) \n",
        "\n",
        "plt.xlim(X1.min(), X1.max()) \n",
        "plt.ylim(X2.min(), X2.max()) \n",
        "\n",
        "for i, j in enumerate(np.unique(y_set)): \n",
        "\tplt.scatter(X_set[y_set == j, 0], X_set[y_set == j, 1], \n",
        "\t\t\t\tc = ListedColormap(('red', 'green'))(i), label = j) \n",
        "\t\n",
        " \n",
        "plt.legend() \n",
        "plt.show() \n"
      ],
      "execution_count": 40,
      "outputs": [
        {
          "output_type": "stream",
          "text": [
            "'c' argument looks like a single numeric RGB or RGBA sequence, which should be avoided as value-mapping will have precedence in case its length matches with 'x' & 'y'.  Please use a 2-D array with a single row if you really want to specify the same RGB or RGBA value for all points.\n",
            "'c' argument looks like a single numeric RGB or RGBA sequence, which should be avoided as value-mapping will have precedence in case its length matches with 'x' & 'y'.  Please use a 2-D array with a single row if you really want to specify the same RGB or RGBA value for all points.\n"
          ],
          "name": "stderr"
        },
        {
          "output_type": "display_data",
          "data": {
            "image/png": "[encoded data removed]",
            "text/plain": [
              "<Figure size 432x288 with 1 Axes>"
            ]
          },
          "metadata": {
            "tags": []
          }
        }
      ]
    }
  ]
}